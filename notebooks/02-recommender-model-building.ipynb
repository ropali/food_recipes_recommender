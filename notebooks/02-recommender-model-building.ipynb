{
 "cells": [
  {
   "cell_type": "code",
   "execution_count": 1,
   "metadata": {},
   "outputs": [],
   "source": [
    "import pandas as pd\n",
    "import numpy as np"
   ]
  },
  {
   "cell_type": "code",
   "execution_count": 2,
   "metadata": {},
   "outputs": [],
   "source": [
    "df = pd.read_csv('../data/interim/processed.csv')"
   ]
  },
  {
   "cell_type": "code",
   "execution_count": 20,
   "metadata": {},
   "outputs": [
    {
     "data": {
      "text/html": [
       "<div>\n",
       "<style scoped>\n",
       "    .dataframe tbody tr th:only-of-type {\n",
       "        vertical-align: middle;\n",
       "    }\n",
       "\n",
       "    .dataframe tbody tr th {\n",
       "        vertical-align: top;\n",
       "    }\n",
       "\n",
       "    .dataframe thead th {\n",
       "        text-align: right;\n",
       "    }\n",
       "</style>\n",
       "<table border=\"1\" class=\"dataframe\">\n",
       "  <thead>\n",
       "    <tr style=\"text-align: right;\">\n",
       "      <th></th>\n",
       "      <th>recipe</th>\n",
       "      <th>title</th>\n",
       "      <th>summary</th>\n",
       "      <th>ingredients</th>\n",
       "      <th>nutritions</th>\n",
       "      <th>prep_cook_timings</th>\n",
       "    </tr>\n",
       "  </thead>\n",
       "  <tbody>\n",
       "    <tr>\n",
       "      <th>0</th>\n",
       "      <td>Heat olive oil in a skillet over medium heat. ...</td>\n",
       "      <td>Indian Chicken Curry</td>\n",
       "      <td>This is an adaptation of yellow chicken curry ...</td>\n",
       "      <td>tablespoons olive oil small onion chopped clov...</td>\n",
       "      <td>313 calories; protein 19.1g; carbohydrates 14g...</td>\n",
       "      <td>prep: 20 mins,cook: 25 mins,total: 45 mins,Ser...</td>\n",
       "    </tr>\n",
       "    <tr>\n",
       "      <th>1</th>\n",
       "      <td>Heat oil and margarine in a small skillet or w...</td>\n",
       "      <td>Basic Curry Sauce</td>\n",
       "      <td>This is a very versatile Indian curry sauce th...</td>\n",
       "      <td>tablespoons peanut oil tablespoon margarine la...</td>\n",
       "      <td>25 calories; protein 0.6g; carbohydrates 2.4g;...</td>\n",
       "      <td>prep: 15 mins,cook: 30 mins,total: 45 mins,Ser...</td>\n",
       "    </tr>\n",
       "    <tr>\n",
       "      <th>2</th>\n",
       "      <td>Heat 1 tablespoon oil in a large saucepan over...</td>\n",
       "      <td>Chicken Makhani Indian Butter Chicken</td>\n",
       "      <td>Chicken Makhani is one of my favorite Indian d...</td>\n",
       "      <td>tablespoon peanut oil shallot finely chopped w...</td>\n",
       "      <td>408 calories; protein 23.4g; carbohydrates 15....</td>\n",
       "      <td>prep: 10 mins,cook: 25 mins,total: 35 mins,Ser...</td>\n",
       "    </tr>\n",
       "    <tr>\n",
       "      <th>3</th>\n",
       "      <td>In a large bowl stir together the whole wheat ...</td>\n",
       "      <td>Indian Chapati Bread</td>\n",
       "      <td>A simple but delicious recipe for Indian flatb...</td>\n",
       "      <td>cup whole wheat flour cup allpurpose flour tea...</td>\n",
       "      <td>110 calories; protein 2.9g; carbohydrates 18.2...</td>\n",
       "      <td>prep: 15 mins,cook: 15 mins,total: 30 mins,Ser...</td>\n",
       "    </tr>\n",
       "    <tr>\n",
       "      <th>4</th>\n",
       "      <td>Bring a large saucepan of water to a boil. Coo...</td>\n",
       "      <td>Authentic Saag Paneer</td>\n",
       "      <td>Saag paneer is a classic Indian dish of cooked...</td>\n",
       "      <td>bunches spinach roughly chopped bunch fenugree...</td>\n",
       "      <td>299 calories; protein 17.1g; carbohydrates 18g...</td>\n",
       "      <td>prep: 15 mins,cook: 45 mins,total: 60 mins,Ser...</td>\n",
       "    </tr>\n",
       "    <tr>\n",
       "      <th>5</th>\n",
       "      <td>Heat ghee in a large skillet over medium heat ...</td>\n",
       "      <td>Curry Stand Chicken Tikka Masala Sauce</td>\n",
       "      <td>A classic curry-stand recipe. This is not haut...</td>\n",
       "      <td>tablespoons ghee clarified butter onion finely...</td>\n",
       "      <td>328 calories; protein 17.9g; carbohydrates 13....</td>\n",
       "      <td>prep: 15 mins,cook: 1 hr 5 mins,total: 1 hr 20...</td>\n",
       "    </tr>\n",
       "    <tr>\n",
       "      <th>6</th>\n",
       "      <td>In a large bowl combine yogurt lemon juice 2 t...</td>\n",
       "      <td>Chicken Tikka Masala</td>\n",
       "      <td>This is an easy recipe for Chicken Tikka Masal...</td>\n",
       "      <td>cup yogurt tablespoon lemon juice teaspoons fr...</td>\n",
       "      <td>404 calories; protein 24.6g; carbohydrates 13....</td>\n",
       "      <td>prep: 30 mins,cook: 50 mins,additional: 1 hr,t...</td>\n",
       "    </tr>\n",
       "    <tr>\n",
       "      <th>7</th>\n",
       "      <td>Grind onion tomato ginger garlic and chile pep...</td>\n",
       "      <td>Chana Masala Savory Indian Chick Peas</td>\n",
       "      <td>Indian food is not just curried sauces. It's n...</td>\n",
       "      <td>onion chopped tomato chopped  inch piece fresh...</td>\n",
       "      <td>413 calories; protein 9.4g; carbohydrates 46.2...</td>\n",
       "      <td>prep: 15 mins,cook: 15 mins,total: 30 mins,Ser...</td>\n",
       "    </tr>\n",
       "    <tr>\n",
       "      <th>8</th>\n",
       "      <td>Heat oil in a skillet over medium heat and coo...</td>\n",
       "      <td>Vegan Sweet Potato Chickpea Curry</td>\n",
       "      <td>Yummy vegan curry dish. Serve with basmati ric...</td>\n",
       "      <td>tablespoons olive oil onion chopped cloves gar...</td>\n",
       "      <td>293 calories; protein 5.1g; carbohydrates 22.3...</td>\n",
       "      <td>prep: 10 mins,cook: 20 mins,total: 30 mins,Ser...</td>\n",
       "    </tr>\n",
       "    <tr>\n",
       "      <th>9</th>\n",
       "      <td>Wash the lentils in cold water until the water...</td>\n",
       "      <td>Red Lentil Curry</td>\n",
       "      <td>This is a rich and hearty lentil curry great a...</td>\n",
       "      <td>cups red lentils large onion diced tablespoon ...</td>\n",
       "      <td>192 calories; protein 12.1g; carbohydrates 32....</td>\n",
       "      <td>prep: 10 mins,cook: 30 mins,total: 40 mins,Ser...</td>\n",
       "    </tr>\n",
       "  </tbody>\n",
       "</table>\n",
       "</div>"
      ],
      "text/plain": [
       "                                              recipe  \\\n",
       "0  Heat olive oil in a skillet over medium heat. ...   \n",
       "1  Heat oil and margarine in a small skillet or w...   \n",
       "2  Heat 1 tablespoon oil in a large saucepan over...   \n",
       "3  In a large bowl stir together the whole wheat ...   \n",
       "4  Bring a large saucepan of water to a boil. Coo...   \n",
       "5  Heat ghee in a large skillet over medium heat ...   \n",
       "6  In a large bowl combine yogurt lemon juice 2 t...   \n",
       "7  Grind onion tomato ginger garlic and chile pep...   \n",
       "8  Heat oil in a skillet over medium heat and coo...   \n",
       "9  Wash the lentils in cold water until the water...   \n",
       "\n",
       "                                    title  \\\n",
       "0                    Indian Chicken Curry   \n",
       "1                       Basic Curry Sauce   \n",
       "2   Chicken Makhani Indian Butter Chicken   \n",
       "3                    Indian Chapati Bread   \n",
       "4                   Authentic Saag Paneer   \n",
       "5  Curry Stand Chicken Tikka Masala Sauce   \n",
       "6                    Chicken Tikka Masala   \n",
       "7   Chana Masala Savory Indian Chick Peas   \n",
       "8       Vegan Sweet Potato Chickpea Curry   \n",
       "9                        Red Lentil Curry   \n",
       "\n",
       "                                             summary  \\\n",
       "0  This is an adaptation of yellow chicken curry ...   \n",
       "1  This is a very versatile Indian curry sauce th...   \n",
       "2  Chicken Makhani is one of my favorite Indian d...   \n",
       "3  A simple but delicious recipe for Indian flatb...   \n",
       "4  Saag paneer is a classic Indian dish of cooked...   \n",
       "5  A classic curry-stand recipe. This is not haut...   \n",
       "6  This is an easy recipe for Chicken Tikka Masal...   \n",
       "7  Indian food is not just curried sauces. It's n...   \n",
       "8  Yummy vegan curry dish. Serve with basmati ric...   \n",
       "9  This is a rich and hearty lentil curry great a...   \n",
       "\n",
       "                                         ingredients  \\\n",
       "0  tablespoons olive oil small onion chopped clov...   \n",
       "1  tablespoons peanut oil tablespoon margarine la...   \n",
       "2  tablespoon peanut oil shallot finely chopped w...   \n",
       "3  cup whole wheat flour cup allpurpose flour tea...   \n",
       "4  bunches spinach roughly chopped bunch fenugree...   \n",
       "5  tablespoons ghee clarified butter onion finely...   \n",
       "6  cup yogurt tablespoon lemon juice teaspoons fr...   \n",
       "7  onion chopped tomato chopped  inch piece fresh...   \n",
       "8  tablespoons olive oil onion chopped cloves gar...   \n",
       "9  cups red lentils large onion diced tablespoon ...   \n",
       "\n",
       "                                          nutritions  \\\n",
       "0  313 calories; protein 19.1g; carbohydrates 14g...   \n",
       "1  25 calories; protein 0.6g; carbohydrates 2.4g;...   \n",
       "2  408 calories; protein 23.4g; carbohydrates 15....   \n",
       "3  110 calories; protein 2.9g; carbohydrates 18.2...   \n",
       "4  299 calories; protein 17.1g; carbohydrates 18g...   \n",
       "5  328 calories; protein 17.9g; carbohydrates 13....   \n",
       "6  404 calories; protein 24.6g; carbohydrates 13....   \n",
       "7  413 calories; protein 9.4g; carbohydrates 46.2...   \n",
       "8  293 calories; protein 5.1g; carbohydrates 22.3...   \n",
       "9  192 calories; protein 12.1g; carbohydrates 32....   \n",
       "\n",
       "                                   prep_cook_timings  \n",
       "0  prep: 20 mins,cook: 25 mins,total: 45 mins,Ser...  \n",
       "1  prep: 15 mins,cook: 30 mins,total: 45 mins,Ser...  \n",
       "2  prep: 10 mins,cook: 25 mins,total: 35 mins,Ser...  \n",
       "3  prep: 15 mins,cook: 15 mins,total: 30 mins,Ser...  \n",
       "4  prep: 15 mins,cook: 45 mins,total: 60 mins,Ser...  \n",
       "5  prep: 15 mins,cook: 1 hr 5 mins,total: 1 hr 20...  \n",
       "6  prep: 30 mins,cook: 50 mins,additional: 1 hr,t...  \n",
       "7  prep: 15 mins,cook: 15 mins,total: 30 mins,Ser...  \n",
       "8  prep: 10 mins,cook: 20 mins,total: 30 mins,Ser...  \n",
       "9  prep: 10 mins,cook: 30 mins,total: 40 mins,Ser...  "
      ]
     },
     "execution_count": 20,
     "metadata": {},
     "output_type": "execute_result"
    }
   ],
   "source": [
    "df.head(10)"
   ]
  },
  {
   "cell_type": "markdown",
   "metadata": {},
   "source": [
    "## Features we will use\n",
    "\n",
    "- recipe\n",
    "- title\n",
    "- summary\n",
    "- ingredients "
   ]
  },
  {
   "cell_type": "code",
   "execution_count": 4,
   "metadata": {},
   "outputs": [],
   "source": [
    "new_df = df.drop(columns=['nutritions','prep_cook_timings'])"
   ]
  },
  {
   "cell_type": "code",
   "execution_count": 5,
   "metadata": {},
   "outputs": [],
   "source": [
    "new_df['recipe'] = new_df.recipe.str.split(' ')\n",
    "new_df['title'] = new_df.title.str.split(' ')\n",
    "new_df['summary'] = new_df.summary.str.split(' ')\n",
    "new_df['ingredients'] = new_df.ingredients.str.split(' ')"
   ]
  },
  {
   "cell_type": "code",
   "execution_count": 6,
   "metadata": {},
   "outputs": [
    {
     "data": {
      "text/html": [
       "<div>\n",
       "<style scoped>\n",
       "    .dataframe tbody tr th:only-of-type {\n",
       "        vertical-align: middle;\n",
       "    }\n",
       "\n",
       "    .dataframe tbody tr th {\n",
       "        vertical-align: top;\n",
       "    }\n",
       "\n",
       "    .dataframe thead th {\n",
       "        text-align: right;\n",
       "    }\n",
       "</style>\n",
       "<table border=\"1\" class=\"dataframe\">\n",
       "  <thead>\n",
       "    <tr style=\"text-align: right;\">\n",
       "      <th></th>\n",
       "      <th>recipe</th>\n",
       "      <th>title</th>\n",
       "      <th>summary</th>\n",
       "      <th>ingredients</th>\n",
       "    </tr>\n",
       "  </thead>\n",
       "  <tbody>\n",
       "    <tr>\n",
       "      <th>0</th>\n",
       "      <td>[Heat, olive, oil, in, a, skillet, over, mediu...</td>\n",
       "      <td>[Indian, Chicken, Curry]</td>\n",
       "      <td>[This, is, an, adaptation, of, yellow, chicken...</td>\n",
       "      <td>[tablespoons, olive, oil, small, onion, choppe...</td>\n",
       "    </tr>\n",
       "    <tr>\n",
       "      <th>1</th>\n",
       "      <td>[Heat, oil, and, margarine, in, a, small, skil...</td>\n",
       "      <td>[Basic, Curry, Sauce]</td>\n",
       "      <td>[This, is, a, very, versatile, Indian, curry, ...</td>\n",
       "      <td>[tablespoons, peanut, oil, tablespoon, margari...</td>\n",
       "    </tr>\n",
       "    <tr>\n",
       "      <th>2</th>\n",
       "      <td>[Heat, 1, tablespoon, oil, in, a, large, sauce...</td>\n",
       "      <td>[Chicken, Makhani, Indian, Butter, Chicken]</td>\n",
       "      <td>[Chicken, Makhani, is, one, of, my, favorite, ...</td>\n",
       "      <td>[tablespoon, peanut, oil, shallot, finely, cho...</td>\n",
       "    </tr>\n",
       "    <tr>\n",
       "      <th>3</th>\n",
       "      <td>[In, a, large, bowl, stir, together, the, whol...</td>\n",
       "      <td>[Indian, Chapati, Bread]</td>\n",
       "      <td>[A, simple, but, delicious, recipe, for, India...</td>\n",
       "      <td>[cup, whole, wheat, flour, cup, allpurpose, fl...</td>\n",
       "    </tr>\n",
       "    <tr>\n",
       "      <th>4</th>\n",
       "      <td>[Bring, a, large, saucepan, of, water, to, a, ...</td>\n",
       "      <td>[Authentic, Saag, Paneer]</td>\n",
       "      <td>[Saag, paneer, is, a, classic, Indian, dish, o...</td>\n",
       "      <td>[bunches, spinach, roughly, chopped, bunch, fe...</td>\n",
       "    </tr>\n",
       "    <tr>\n",
       "      <th>...</th>\n",
       "      <td>...</td>\n",
       "      <td>...</td>\n",
       "      <td>...</td>\n",
       "      <td>...</td>\n",
       "    </tr>\n",
       "    <tr>\n",
       "      <th>847</th>\n",
       "      <td>[Combine, water, and, pandan, leaves, together...</td>\n",
       "      <td>[Pandan, Coconut, Candy]</td>\n",
       "      <td>[This, is, a, traditional, dish, in, Indian, s...</td>\n",
       "      <td>[cup, water, pandan, leaves, tablespoons, ghee...</td>\n",
       "    </tr>\n",
       "    <tr>\n",
       "      <th>848</th>\n",
       "      <td>[Soften, the, saffron, threads, in, the, hot, ...</td>\n",
       "      <td>[Kesari, Bhat]</td>\n",
       "      <td>[This, is, a, traditional, Indian, sweet, prep...</td>\n",
       "      <td>[pinch, saffron, threads , cups, hot, milk, cu...</td>\n",
       "    </tr>\n",
       "    <tr>\n",
       "      <th>849</th>\n",
       "      <td>[Puree, red, onion, in, a, blender, or, food, ...</td>\n",
       "      <td>[Spicy, Fried, Shrimp]</td>\n",
       "      <td>[Medium-large, shrimp, cooked, in, a, rich, bl...</td>\n",
       "      <td>[red, onion, sliced, pound, uncooked, medium, ...</td>\n",
       "    </tr>\n",
       "    <tr>\n",
       "      <th>850</th>\n",
       "      <td>[Season, goat, meat, with, salt, and, 1, teasp...</td>\n",
       "      <td>[Kochi, Panthar, Jhol, Goat, Curry]</td>\n",
       "      <td>[This, dish, is, made, from, baby, goat, meat,...</td>\n",
       "      <td>[pounds, baby, goat, meat, cut, into, small, c...</td>\n",
       "    </tr>\n",
       "    <tr>\n",
       "      <th>851</th>\n",
       "      <td>[Stir, yogurt, sugar, salt, cumin, black, pepp...</td>\n",
       "      <td>[Pomegranate, Raita]</td>\n",
       "      <td>[Tasty, healthier, version, of, Indian, raita,...</td>\n",
       "      <td>[cup, plain, yogurt, teaspoon, white, sugarsal...</td>\n",
       "    </tr>\n",
       "  </tbody>\n",
       "</table>\n",
       "<p>852 rows × 4 columns</p>\n",
       "</div>"
      ],
      "text/plain": [
       "                                                recipe  \\\n",
       "0    [Heat, olive, oil, in, a, skillet, over, mediu...   \n",
       "1    [Heat, oil, and, margarine, in, a, small, skil...   \n",
       "2    [Heat, 1, tablespoon, oil, in, a, large, sauce...   \n",
       "3    [In, a, large, bowl, stir, together, the, whol...   \n",
       "4    [Bring, a, large, saucepan, of, water, to, a, ...   \n",
       "..                                                 ...   \n",
       "847  [Combine, water, and, pandan, leaves, together...   \n",
       "848  [Soften, the, saffron, threads, in, the, hot, ...   \n",
       "849  [Puree, red, onion, in, a, blender, or, food, ...   \n",
       "850  [Season, goat, meat, with, salt, and, 1, teasp...   \n",
       "851  [Stir, yogurt, sugar, salt, cumin, black, pepp...   \n",
       "\n",
       "                                           title  \\\n",
       "0                       [Indian, Chicken, Curry]   \n",
       "1                          [Basic, Curry, Sauce]   \n",
       "2    [Chicken, Makhani, Indian, Butter, Chicken]   \n",
       "3                       [Indian, Chapati, Bread]   \n",
       "4                      [Authentic, Saag, Paneer]   \n",
       "..                                           ...   \n",
       "847                     [Pandan, Coconut, Candy]   \n",
       "848                               [Kesari, Bhat]   \n",
       "849                       [Spicy, Fried, Shrimp]   \n",
       "850          [Kochi, Panthar, Jhol, Goat, Curry]   \n",
       "851                         [Pomegranate, Raita]   \n",
       "\n",
       "                                               summary  \\\n",
       "0    [This, is, an, adaptation, of, yellow, chicken...   \n",
       "1    [This, is, a, very, versatile, Indian, curry, ...   \n",
       "2    [Chicken, Makhani, is, one, of, my, favorite, ...   \n",
       "3    [A, simple, but, delicious, recipe, for, India...   \n",
       "4    [Saag, paneer, is, a, classic, Indian, dish, o...   \n",
       "..                                                 ...   \n",
       "847  [This, is, a, traditional, dish, in, Indian, s...   \n",
       "848  [This, is, a, traditional, Indian, sweet, prep...   \n",
       "849  [Medium-large, shrimp, cooked, in, a, rich, bl...   \n",
       "850  [This, dish, is, made, from, baby, goat, meat,...   \n",
       "851  [Tasty, healthier, version, of, Indian, raita,...   \n",
       "\n",
       "                                           ingredients  \n",
       "0    [tablespoons, olive, oil, small, onion, choppe...  \n",
       "1    [tablespoons, peanut, oil, tablespoon, margari...  \n",
       "2    [tablespoon, peanut, oil, shallot, finely, cho...  \n",
       "3    [cup, whole, wheat, flour, cup, allpurpose, fl...  \n",
       "4    [bunches, spinach, roughly, chopped, bunch, fe...  \n",
       "..                                                 ...  \n",
       "847  [cup, water, pandan, leaves, tablespoons, ghee...  \n",
       "848  [pinch, saffron, threads , cups, hot, milk, cu...  \n",
       "849  [red, onion, sliced, pound, uncooked, medium, ...  \n",
       "850  [pounds, baby, goat, meat, cut, into, small, c...  \n",
       "851  [cup, plain, yogurt, teaspoon, white, sugarsal...  \n",
       "\n",
       "[852 rows x 4 columns]"
      ]
     },
     "execution_count": 6,
     "metadata": {},
     "output_type": "execute_result"
    }
   ],
   "source": [
    "new_df"
   ]
  },
  {
   "cell_type": "code",
   "execution_count": 7,
   "metadata": {},
   "outputs": [],
   "source": [
    "new_df['tags'] = df.recipe + df.title + df.summary + df.ingredients"
   ]
  },
  {
   "cell_type": "code",
   "execution_count": 8,
   "metadata": {},
   "outputs": [
    {
     "data": {
      "text/plain": [
       "'Heat olive oil in a skillet over medium heat. Saute onion until lightly browned. Stir in garlic curry powder cinnamon paprika bay leaf ginger sugar and salt. Continue stirring for 2 minutes. Add chicken pieces tomato paste yogurt and coconut milk. Bring to a boil reduce heat and simmer for 20 to 25 minutes.    Advertisement    Remove bay leaf and stir in lemon juice and cayenne pepper. Simmer 5 more minutes.Indian Chicken CurryThis is an adaptation of yellow chicken curry from India. The aromas and flavors are a delight to the senses! It is best served with fresh Naan bread and Jasmine or Basmati rice.tablespoons olive oil small onion chopped cloves garlic minced tablespoons curry powder teaspoon ground cinnamon teaspoon paprika bay leaf teaspoon grated fresh ginger root teaspoon white sugarsalt to taste skinless boneless chicken breast halves  cut into bitesize pieces tablespoon tomato paste cup plain yogurt cup coconut milk lemon juiced teaspoon cayenne pepper'"
      ]
     },
     "execution_count": 8,
     "metadata": {},
     "output_type": "execute_result"
    }
   ],
   "source": [
    "new_df.tags[0]"
   ]
  },
  {
   "cell_type": "markdown",
   "metadata": {},
   "source": [
    "## Model Building"
   ]
  },
  {
   "cell_type": "code",
   "execution_count": 9,
   "metadata": {},
   "outputs": [],
   "source": [
    "from sklearn.feature_extraction.text import CountVectorizer\n",
    "cv = CountVectorizer(max_features=5000,stop_words='english')"
   ]
  },
  {
   "cell_type": "code",
   "execution_count": 10,
   "metadata": {},
   "outputs": [],
   "source": [
    "vector = cv.fit_transform(new_df['tags']).toarray()"
   ]
  },
  {
   "cell_type": "code",
   "execution_count": 11,
   "metadata": {},
   "outputs": [
    {
     "data": {
      "text/plain": [
       "(852, 4971)"
      ]
     },
     "execution_count": 11,
     "metadata": {},
     "output_type": "execute_result"
    }
   ],
   "source": [
    "vector.shape"
   ]
  },
  {
   "cell_type": "code",
   "execution_count": 12,
   "metadata": {},
   "outputs": [],
   "source": [
    "from sklearn.metrics.pairwise import cosine_similarity"
   ]
  },
  {
   "cell_type": "code",
   "execution_count": 13,
   "metadata": {},
   "outputs": [],
   "source": [
    "similarity = cosine_similarity(vector)"
   ]
  },
  {
   "cell_type": "code",
   "execution_count": 14,
   "metadata": {},
   "outputs": [
    {
     "data": {
      "text/plain": [
       "array([[1.        , 0.47078959, 0.64371791, ..., 0.46220524, 0.32844554,\n",
       "        0.25221486],\n",
       "       [0.47078959, 1.        , 0.53092439, ..., 0.54530632, 0.42723402,\n",
       "        0.29279907],\n",
       "       [0.64371791, 0.53092439, 1.        , ..., 0.55144257, 0.35902893,\n",
       "        0.29181593],\n",
       "       ...,\n",
       "       [0.46220524, 0.54530632, 0.55144257, ..., 1.        , 0.4043436 ,\n",
       "        0.31503014],\n",
       "       [0.32844554, 0.42723402, 0.35902893, ..., 0.4043436 , 1.        ,\n",
       "        0.22072584],\n",
       "       [0.25221486, 0.29279907, 0.29181593, ..., 0.31503014, 0.22072584,\n",
       "        1.        ]])"
      ]
     },
     "execution_count": 14,
     "metadata": {},
     "output_type": "execute_result"
    }
   ],
   "source": [
    "similarity"
   ]
  },
  {
   "cell_type": "code",
   "execution_count": 18,
   "metadata": {},
   "outputs": [
    {
     "data": {
      "text/plain": [
       "0"
      ]
     },
     "execution_count": 18,
     "metadata": {},
     "output_type": "execute_result"
    }
   ],
   "source": [
    "df[df['title'] == 'Indian Chicken Curry'].index[0]"
   ]
  },
  {
   "cell_type": "code",
   "execution_count": 22,
   "metadata": {},
   "outputs": [
    {
     "name": "stdout",
     "output_type": "stream",
     "text": [
      "Indian Curried Chicken Thighs\n",
      "Chicken Saagwala\n",
      "Chicken Makhani Indian Butter Chicken\n",
      "Curry Stand Chicken Tikka Masala Sauce\n",
      "Chicken Vindaloo\n"
     ]
    }
   ],
   "source": [
    "def recommend(title):\n",
    "    index = df[df['title'] == title].index[0]\n",
    "    distances = sorted(list(enumerate(similarity[index])),reverse=True,key = lambda x: x[1])\n",
    "    for i in distances[1:6]:\n",
    "        print(df.iloc[i[0]].title)\n",
    "\n",
    "recommend('Indian Chicken Curry')\n"
   ]
  }
 ],
 "metadata": {
  "interpreter": {
   "hash": "fcf18e1bc866ce26f233a4eaa44b9bd6b35d8f333fdb8d3ae0b7d185f9d9f41f"
  },
  "kernelspec": {
   "display_name": "Python 3.8.8 64-bit ('base': conda)",
   "name": "python3"
  },
  "language_info": {
   "codemirror_mode": {
    "name": "ipython",
    "version": 3
   },
   "file_extension": ".py",
   "mimetype": "text/x-python",
   "name": "python",
   "nbconvert_exporter": "python",
   "pygments_lexer": "ipython3",
   "version": "3.8.8"
  },
  "orig_nbformat": 4
 },
 "nbformat": 4,
 "nbformat_minor": 2
}
