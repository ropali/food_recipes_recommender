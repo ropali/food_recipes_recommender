{
 "cells": [
  {
   "cell_type": "code",
   "execution_count": 1,
   "metadata": {},
   "outputs": [],
   "source": [
    "import pandas as pd\n",
    "import numpy as np\n",
    "import matplotlib.pyplot as plt\n",
    "import seaborn as sns"
   ]
  },
  {
   "cell_type": "code",
   "execution_count": 2,
   "metadata": {},
   "outputs": [],
   "source": [
    "df = pd.read_csv('../data/raw/data.csv')"
   ]
  },
  {
   "cell_type": "code",
   "execution_count": 3,
   "metadata": {},
   "outputs": [
    {
     "data": {
      "text/html": [
       "<div>\n",
       "<style scoped>\n",
       "    .dataframe tbody tr th:only-of-type {\n",
       "        vertical-align: middle;\n",
       "    }\n",
       "\n",
       "    .dataframe tbody tr th {\n",
       "        vertical-align: top;\n",
       "    }\n",
       "\n",
       "    .dataframe thead th {\n",
       "        text-align: right;\n",
       "    }\n",
       "</style>\n",
       "<table border=\"1\" class=\"dataframe\">\n",
       "  <thead>\n",
       "    <tr style=\"text-align: right;\">\n",
       "      <th></th>\n",
       "      <th>url</th>\n",
       "      <th>recipe</th>\n",
       "      <th>title</th>\n",
       "      <th>summary</th>\n",
       "      <th>ingredients</th>\n",
       "      <th>nutritions</th>\n",
       "      <th>prep_cook_timings</th>\n",
       "      <th>image_url</th>\n",
       "    </tr>\n",
       "  </thead>\n",
       "  <tbody>\n",
       "    <tr>\n",
       "      <th>0</th>\n",
       "      <td>https://www.allrecipes.com/recipe/46822/indian...</td>\n",
       "      <td>{\"step_1\": \"Step 1   Heat olive oil in a skill...</td>\n",
       "      <td>Indian Chicken Curry II</td>\n",
       "      <td>This is an adaptation of yellow chicken curry ...</td>\n",
       "      <td>3 tablespoons olive oil,1 small onion, chopped...</td>\n",
       "      <td>Per Serving:  313 calories; protein 19.1g; ca...</td>\n",
       "      <td>prep: 20 mins,cook: 25 mins,total: 45 mins,Ser...</td>\n",
       "      <td>https://imagesvc.meredithcorp.io/v3/mm/image?u...</td>\n",
       "    </tr>\n",
       "    <tr>\n",
       "      <th>1</th>\n",
       "      <td>https://www.allrecipes.com/recipe/25881/basic-...</td>\n",
       "      <td>{\"step_1\": \"Step 1   Heat oil and margarine in...</td>\n",
       "      <td>Basic Curry Sauce</td>\n",
       "      <td>This is a very versatile Indian curry sauce th...</td>\n",
       "      <td>2 tablespoons peanut oil,1 tablespoon margarin...</td>\n",
       "      <td>Per Serving:  25 calories; protein 0.6g; carb...</td>\n",
       "      <td>prep: 15 mins,cook: 30 mins,total: 45 mins,Ser...</td>\n",
       "      <td>https://imagesvc.meredithcorp.io/v3/mm/image?u...</td>\n",
       "    </tr>\n",
       "    <tr>\n",
       "      <th>2</th>\n",
       "      <td>https://www.allrecipes.com/recipe/45957/chicke...</td>\n",
       "      <td>{\"step_1\": \"Step 1   Heat 1 tablespoon oil in ...</td>\n",
       "      <td>Chicken Makhani (Indian Butter Chicken)</td>\n",
       "      <td>Chicken Makhani is one of my favorite Indian d...</td>\n",
       "      <td>1 tablespoon peanut oil,1 shallot, finely chop...</td>\n",
       "      <td>Per Serving:  408 calories; protein 23.4g; ca...</td>\n",
       "      <td>prep: 10 mins,cook: 25 mins,total: 35 mins,Ser...</td>\n",
       "      <td>https://imagesvc.meredithcorp.io/v3/mm/image?u...</td>\n",
       "    </tr>\n",
       "    <tr>\n",
       "      <th>3</th>\n",
       "      <td>https://www.allrecipes.com/recipe/85469/indian...</td>\n",
       "      <td>{\"step_1\": \"Step 1   In a large bowl, stir tog...</td>\n",
       "      <td>Indian Chapati Bread</td>\n",
       "      <td>A simple but delicious recipe for Indian flatb...</td>\n",
       "      <td>1 cup whole wheat flour,1 cup all-purpose flou...</td>\n",
       "      <td>Per Serving:  110 calories; protein 2.9g; car...</td>\n",
       "      <td>prep: 15 mins,cook: 15 mins,total: 30 mins,Ser...</td>\n",
       "      <td>https://imagesvc.meredithcorp.io/v3/mm/image?u...</td>\n",
       "    </tr>\n",
       "    <tr>\n",
       "      <th>4</th>\n",
       "      <td>https://www.allrecipes.com/recipe/228957/authe...</td>\n",
       "      <td>{\"step_1\": \"Step 1   Bring a large saucepan of...</td>\n",
       "      <td>Authentic Saag Paneer</td>\n",
       "      <td>Saag paneer is a classic Indian dish of cooked...</td>\n",
       "      <td>2 bunches spinach, roughly chopped,1 bunch fen...</td>\n",
       "      <td>Per Serving:  299 calories; protein 17.1g; ca...</td>\n",
       "      <td>prep: 15 mins,cook: 45 mins,total: 60 mins,Ser...</td>\n",
       "      <td>https://imagesvc.meredithcorp.io/v3/mm/image?u...</td>\n",
       "    </tr>\n",
       "  </tbody>\n",
       "</table>\n",
       "</div>"
      ],
      "text/plain": [
       "                                                 url  \\\n",
       "0  https://www.allrecipes.com/recipe/46822/indian...   \n",
       "1  https://www.allrecipes.com/recipe/25881/basic-...   \n",
       "2  https://www.allrecipes.com/recipe/45957/chicke...   \n",
       "3  https://www.allrecipes.com/recipe/85469/indian...   \n",
       "4  https://www.allrecipes.com/recipe/228957/authe...   \n",
       "\n",
       "                                              recipe  \\\n",
       "0  {\"step_1\": \"Step 1   Heat olive oil in a skill...   \n",
       "1  {\"step_1\": \"Step 1   Heat oil and margarine in...   \n",
       "2  {\"step_1\": \"Step 1   Heat 1 tablespoon oil in ...   \n",
       "3  {\"step_1\": \"Step 1   In a large bowl, stir tog...   \n",
       "4  {\"step_1\": \"Step 1   Bring a large saucepan of...   \n",
       "\n",
       "                                     title  \\\n",
       "0                  Indian Chicken Curry II   \n",
       "1                        Basic Curry Sauce   \n",
       "2  Chicken Makhani (Indian Butter Chicken)   \n",
       "3                     Indian Chapati Bread   \n",
       "4                    Authentic Saag Paneer   \n",
       "\n",
       "                                             summary  \\\n",
       "0  This is an adaptation of yellow chicken curry ...   \n",
       "1  This is a very versatile Indian curry sauce th...   \n",
       "2  Chicken Makhani is one of my favorite Indian d...   \n",
       "3  A simple but delicious recipe for Indian flatb...   \n",
       "4  Saag paneer is a classic Indian dish of cooked...   \n",
       "\n",
       "                                         ingredients  \\\n",
       "0  3 tablespoons olive oil,1 small onion, chopped...   \n",
       "1  2 tablespoons peanut oil,1 tablespoon margarin...   \n",
       "2  1 tablespoon peanut oil,1 shallot, finely chop...   \n",
       "3  1 cup whole wheat flour,1 cup all-purpose flou...   \n",
       "4  2 bunches spinach, roughly chopped,1 bunch fen...   \n",
       "\n",
       "                                          nutritions  \\\n",
       "0   Per Serving:  313 calories; protein 19.1g; ca...   \n",
       "1   Per Serving:  25 calories; protein 0.6g; carb...   \n",
       "2   Per Serving:  408 calories; protein 23.4g; ca...   \n",
       "3   Per Serving:  110 calories; protein 2.9g; car...   \n",
       "4   Per Serving:  299 calories; protein 17.1g; ca...   \n",
       "\n",
       "                                   prep_cook_timings  \\\n",
       "0  prep: 20 mins,cook: 25 mins,total: 45 mins,Ser...   \n",
       "1  prep: 15 mins,cook: 30 mins,total: 45 mins,Ser...   \n",
       "2  prep: 10 mins,cook: 25 mins,total: 35 mins,Ser...   \n",
       "3  prep: 15 mins,cook: 15 mins,total: 30 mins,Ser...   \n",
       "4  prep: 15 mins,cook: 45 mins,total: 60 mins,Ser...   \n",
       "\n",
       "                                           image_url  \n",
       "0  https://imagesvc.meredithcorp.io/v3/mm/image?u...  \n",
       "1  https://imagesvc.meredithcorp.io/v3/mm/image?u...  \n",
       "2  https://imagesvc.meredithcorp.io/v3/mm/image?u...  \n",
       "3  https://imagesvc.meredithcorp.io/v3/mm/image?u...  \n",
       "4  https://imagesvc.meredithcorp.io/v3/mm/image?u...  "
      ]
     },
     "execution_count": 3,
     "metadata": {},
     "output_type": "execute_result"
    }
   ],
   "source": [
    "df.head()"
   ]
  },
  {
   "cell_type": "code",
   "execution_count": 4,
   "metadata": {},
   "outputs": [
    {
     "name": "stdout",
     "output_type": "stream",
     "text": [
      "<class 'pandas.core.frame.DataFrame'>\n",
      "RangeIndex: 852 entries, 0 to 851\n",
      "Data columns (total 8 columns):\n",
      " #   Column             Non-Null Count  Dtype \n",
      "---  ------             --------------  ----- \n",
      " 0   url                852 non-null    object\n",
      " 1   recipe             852 non-null    object\n",
      " 2   title              852 non-null    object\n",
      " 3   summary            852 non-null    object\n",
      " 4   ingredients        852 non-null    object\n",
      " 5   nutritions         852 non-null    object\n",
      " 6   prep_cook_timings  852 non-null    object\n",
      " 7   image_url          852 non-null    object\n",
      "dtypes: object(8)\n",
      "memory usage: 53.4+ KB\n"
     ]
    }
   ],
   "source": [
    "df.info()"
   ]
  },
  {
   "cell_type": "markdown",
   "metadata": {},
   "source": [
    "### url and image_url has no use let's remove them first"
   ]
  },
  {
   "cell_type": "code",
   "execution_count": 5,
   "metadata": {},
   "outputs": [],
   "source": [
    "df.drop(columns=['url', 'image_url'],inplace=True)"
   ]
  },
  {
   "cell_type": "code",
   "execution_count": 6,
   "metadata": {},
   "outputs": [
    {
     "data": {
      "text/html": [
       "<div>\n",
       "<style scoped>\n",
       "    .dataframe tbody tr th:only-of-type {\n",
       "        vertical-align: middle;\n",
       "    }\n",
       "\n",
       "    .dataframe tbody tr th {\n",
       "        vertical-align: top;\n",
       "    }\n",
       "\n",
       "    .dataframe thead th {\n",
       "        text-align: right;\n",
       "    }\n",
       "</style>\n",
       "<table border=\"1\" class=\"dataframe\">\n",
       "  <thead>\n",
       "    <tr style=\"text-align: right;\">\n",
       "      <th></th>\n",
       "      <th>recipe</th>\n",
       "      <th>title</th>\n",
       "      <th>summary</th>\n",
       "      <th>ingredients</th>\n",
       "      <th>nutritions</th>\n",
       "      <th>prep_cook_timings</th>\n",
       "    </tr>\n",
       "  </thead>\n",
       "  <tbody>\n",
       "    <tr>\n",
       "      <th>0</th>\n",
       "      <td>{\"step_1\": \"Step 1   Heat olive oil in a skill...</td>\n",
       "      <td>Indian Chicken Curry II</td>\n",
       "      <td>This is an adaptation of yellow chicken curry ...</td>\n",
       "      <td>3 tablespoons olive oil,1 small onion, chopped...</td>\n",
       "      <td>Per Serving:  313 calories; protein 19.1g; ca...</td>\n",
       "      <td>prep: 20 mins,cook: 25 mins,total: 45 mins,Ser...</td>\n",
       "    </tr>\n",
       "    <tr>\n",
       "      <th>1</th>\n",
       "      <td>{\"step_1\": \"Step 1   Heat oil and margarine in...</td>\n",
       "      <td>Basic Curry Sauce</td>\n",
       "      <td>This is a very versatile Indian curry sauce th...</td>\n",
       "      <td>2 tablespoons peanut oil,1 tablespoon margarin...</td>\n",
       "      <td>Per Serving:  25 calories; protein 0.6g; carb...</td>\n",
       "      <td>prep: 15 mins,cook: 30 mins,total: 45 mins,Ser...</td>\n",
       "    </tr>\n",
       "    <tr>\n",
       "      <th>2</th>\n",
       "      <td>{\"step_1\": \"Step 1   Heat 1 tablespoon oil in ...</td>\n",
       "      <td>Chicken Makhani (Indian Butter Chicken)</td>\n",
       "      <td>Chicken Makhani is one of my favorite Indian d...</td>\n",
       "      <td>1 tablespoon peanut oil,1 shallot, finely chop...</td>\n",
       "      <td>Per Serving:  408 calories; protein 23.4g; ca...</td>\n",
       "      <td>prep: 10 mins,cook: 25 mins,total: 35 mins,Ser...</td>\n",
       "    </tr>\n",
       "  </tbody>\n",
       "</table>\n",
       "</div>"
      ],
      "text/plain": [
       "                                              recipe  \\\n",
       "0  {\"step_1\": \"Step 1   Heat olive oil in a skill...   \n",
       "1  {\"step_1\": \"Step 1   Heat oil and margarine in...   \n",
       "2  {\"step_1\": \"Step 1   Heat 1 tablespoon oil in ...   \n",
       "\n",
       "                                     title  \\\n",
       "0                  Indian Chicken Curry II   \n",
       "1                        Basic Curry Sauce   \n",
       "2  Chicken Makhani (Indian Butter Chicken)   \n",
       "\n",
       "                                             summary  \\\n",
       "0  This is an adaptation of yellow chicken curry ...   \n",
       "1  This is a very versatile Indian curry sauce th...   \n",
       "2  Chicken Makhani is one of my favorite Indian d...   \n",
       "\n",
       "                                         ingredients  \\\n",
       "0  3 tablespoons olive oil,1 small onion, chopped...   \n",
       "1  2 tablespoons peanut oil,1 tablespoon margarin...   \n",
       "2  1 tablespoon peanut oil,1 shallot, finely chop...   \n",
       "\n",
       "                                          nutritions  \\\n",
       "0   Per Serving:  313 calories; protein 19.1g; ca...   \n",
       "1   Per Serving:  25 calories; protein 0.6g; carb...   \n",
       "2   Per Serving:  408 calories; protein 23.4g; ca...   \n",
       "\n",
       "                                   prep_cook_timings  \n",
       "0  prep: 20 mins,cook: 25 mins,total: 45 mins,Ser...  \n",
       "1  prep: 15 mins,cook: 30 mins,total: 45 mins,Ser...  \n",
       "2  prep: 10 mins,cook: 25 mins,total: 35 mins,Ser...  "
      ]
     },
     "execution_count": 6,
     "metadata": {},
     "output_type": "execute_result"
    }
   ],
   "source": [
    "df.head(3)"
   ]
  },
  {
   "cell_type": "markdown",
   "metadata": {},
   "source": [
    "### remove whitespaces from each features"
   ]
  },
  {
   "cell_type": "code",
   "execution_count": 7,
   "metadata": {},
   "outputs": [],
   "source": [
    "for col in df.columns:\n",
    "    df[col] = df[col].str.strip()"
   ]
  },
  {
   "cell_type": "markdown",
   "metadata": {},
   "source": [
    "## Handle recipe"
   ]
  },
  {
   "cell_type": "markdown",
   "metadata": {},
   "source": [
    "### recipe feature has json objects as string,Let's join all the steps and make a single string value"
   ]
  },
  {
   "cell_type": "code",
   "execution_count": 8,
   "metadata": {},
   "outputs": [],
   "source": [
    "import json\n",
    "import re\n",
    "\n",
    "def clean_recipe(val):\n",
    "    master_string = \"\"\n",
    "\n",
    "    dict_ = json.loads(val)\n",
    "\n",
    "    for k,v in dict_.items():\n",
    "        # remove \"Step {x}\" from string \n",
    "        master_string += re.sub(r'((step)|(Step)) \\d', ' ', v)\n",
    "    \n",
    "    return master_string.replace(',','').strip()\n",
    "\n",
    "df['recipe'] = df.recipe.apply(clean_recipe)"
   ]
  },
  {
   "cell_type": "code",
   "execution_count": 9,
   "metadata": {},
   "outputs": [
    {
     "data": {
      "text/plain": [
       "'This is an adaptation of yellow chicken curry from India. The aromas and flavors are a delight to the senses! It is best served with fresh Naan bread and Jasmine or Basmati rice.'"
      ]
     },
     "execution_count": 9,
     "metadata": {},
     "output_type": "execute_result"
    }
   ],
   "source": [
    "df.summary[0]"
   ]
  },
  {
   "cell_type": "markdown",
   "metadata": {},
   "source": [
    "## Handle title"
   ]
  },
  {
   "cell_type": "code",
   "execution_count": 10,
   "metadata": {},
   "outputs": [],
   "source": [
    "def clean_title(val):\n",
    "    \n",
    "    val_str = re.sub(r'[\\\\(\\\\)]|(II)', '', val)\n",
    "    \n",
    "    return val_str.replace(',','').strip()\n",
    "\n",
    "\n",
    "df['title'] = df.title.apply(clean_title)"
   ]
  },
  {
   "cell_type": "markdown",
   "metadata": {},
   "source": [
    "## Handle summary"
   ]
  },
  {
   "cell_type": "code",
   "execution_count": 11,
   "metadata": {},
   "outputs": [],
   "source": [
    "def clean_summary(val):\n",
    "    \n",
    "    val_str = re.sub(r'[\\\\(\\\\)]|(II)', '', val)\n",
    "    \n",
    "    return val_str.replace(',','').strip()\n",
    "\n",
    "\n",
    "df['summary'] = df.summary.apply(clean_summary)"
   ]
  },
  {
   "cell_type": "code",
   "execution_count": 12,
   "metadata": {},
   "outputs": [
    {
     "data": {
      "text/html": [
       "<div>\n",
       "<style scoped>\n",
       "    .dataframe tbody tr th:only-of-type {\n",
       "        vertical-align: middle;\n",
       "    }\n",
       "\n",
       "    .dataframe tbody tr th {\n",
       "        vertical-align: top;\n",
       "    }\n",
       "\n",
       "    .dataframe thead th {\n",
       "        text-align: right;\n",
       "    }\n",
       "</style>\n",
       "<table border=\"1\" class=\"dataframe\">\n",
       "  <thead>\n",
       "    <tr style=\"text-align: right;\">\n",
       "      <th></th>\n",
       "      <th>recipe</th>\n",
       "      <th>title</th>\n",
       "      <th>summary</th>\n",
       "      <th>ingredients</th>\n",
       "      <th>nutritions</th>\n",
       "      <th>prep_cook_timings</th>\n",
       "    </tr>\n",
       "  </thead>\n",
       "  <tbody>\n",
       "    <tr>\n",
       "      <th>0</th>\n",
       "      <td>Heat olive oil in a skillet over medium heat. ...</td>\n",
       "      <td>Indian Chicken Curry</td>\n",
       "      <td>This is an adaptation of yellow chicken curry ...</td>\n",
       "      <td>3 tablespoons olive oil,1 small onion, chopped...</td>\n",
       "      <td>Per Serving:  313 calories; protein 19.1g; car...</td>\n",
       "      <td>prep: 20 mins,cook: 25 mins,total: 45 mins,Ser...</td>\n",
       "    </tr>\n",
       "    <tr>\n",
       "      <th>1</th>\n",
       "      <td>Heat oil and margarine in a small skillet or w...</td>\n",
       "      <td>Basic Curry Sauce</td>\n",
       "      <td>This is a very versatile Indian curry sauce th...</td>\n",
       "      <td>2 tablespoons peanut oil,1 tablespoon margarin...</td>\n",
       "      <td>Per Serving:  25 calories; protein 0.6g; carbo...</td>\n",
       "      <td>prep: 15 mins,cook: 30 mins,total: 45 mins,Ser...</td>\n",
       "    </tr>\n",
       "    <tr>\n",
       "      <th>2</th>\n",
       "      <td>Heat 1 tablespoon oil in a large saucepan over...</td>\n",
       "      <td>Chicken Makhani Indian Butter Chicken</td>\n",
       "      <td>Chicken Makhani is one of my favorite Indian d...</td>\n",
       "      <td>1 tablespoon peanut oil,1 shallot, finely chop...</td>\n",
       "      <td>Per Serving:  408 calories; protein 23.4g; car...</td>\n",
       "      <td>prep: 10 mins,cook: 25 mins,total: 35 mins,Ser...</td>\n",
       "    </tr>\n",
       "  </tbody>\n",
       "</table>\n",
       "</div>"
      ],
      "text/plain": [
       "                                              recipe  \\\n",
       "0  Heat olive oil in a skillet over medium heat. ...   \n",
       "1  Heat oil and margarine in a small skillet or w...   \n",
       "2  Heat 1 tablespoon oil in a large saucepan over...   \n",
       "\n",
       "                                   title  \\\n",
       "0                   Indian Chicken Curry   \n",
       "1                      Basic Curry Sauce   \n",
       "2  Chicken Makhani Indian Butter Chicken   \n",
       "\n",
       "                                             summary  \\\n",
       "0  This is an adaptation of yellow chicken curry ...   \n",
       "1  This is a very versatile Indian curry sauce th...   \n",
       "2  Chicken Makhani is one of my favorite Indian d...   \n",
       "\n",
       "                                         ingredients  \\\n",
       "0  3 tablespoons olive oil,1 small onion, chopped...   \n",
       "1  2 tablespoons peanut oil,1 tablespoon margarin...   \n",
       "2  1 tablespoon peanut oil,1 shallot, finely chop...   \n",
       "\n",
       "                                          nutritions  \\\n",
       "0  Per Serving:  313 calories; protein 19.1g; car...   \n",
       "1  Per Serving:  25 calories; protein 0.6g; carbo...   \n",
       "2  Per Serving:  408 calories; protein 23.4g; car...   \n",
       "\n",
       "                                   prep_cook_timings  \n",
       "0  prep: 20 mins,cook: 25 mins,total: 45 mins,Ser...  \n",
       "1  prep: 15 mins,cook: 30 mins,total: 45 mins,Ser...  \n",
       "2  prep: 10 mins,cook: 25 mins,total: 35 mins,Ser...  "
      ]
     },
     "execution_count": 12,
     "metadata": {},
     "output_type": "execute_result"
    }
   ],
   "source": [
    "df.head(3)"
   ]
  },
  {
   "cell_type": "markdown",
   "metadata": {},
   "source": [
    "## Handle ingredients"
   ]
  },
  {
   "cell_type": "markdown",
   "metadata": {},
   "source": [
    "## It has many numerical values like 1, 2 or ,½ which might not be useful for our recommender system"
   ]
  },
  {
   "cell_type": "code",
   "execution_count": 13,
   "metadata": {},
   "outputs": [],
   "source": [
    "def clean_ingred(val):\n",
    "    sub_str = re.sub(r'[0-9]|(-)|[½¾¼⅓,]|(Optional)|[\\\\(\\\\)]', '', val)\n",
    "\n",
    "    return sub_str.strip()\n",
    "\n",
    "\n",
    "df['ingredients'] = df.ingredients.apply(clean_ingred)"
   ]
  },
  {
   "cell_type": "markdown",
   "metadata": {},
   "source": [
    "## Handle nutritions"
   ]
  },
  {
   "cell_type": "markdown",
   "metadata": {},
   "source": [
    "remove 'Per Serving:' and 'Full Nutrition' strings from it"
   ]
  },
  {
   "cell_type": "code",
   "execution_count": 14,
   "metadata": {},
   "outputs": [],
   "source": [
    "def clean_nutritions(val):\n",
    "    return val.replace('Per Serving:','').replace('Full Nutrition','').replace(',','').strip()\n",
    "\n",
    "\n",
    "df['nutritions'] = df.nutritions.apply(clean_nutritions)"
   ]
  },
  {
   "cell_type": "code",
   "execution_count": 15,
   "metadata": {},
   "outputs": [
    {
     "data": {
      "text/plain": [
       "'313 calories; protein 19.1g; carbohydrates 14g; fat 21.7g; cholesterol 37.9mg; sodium 268.3mg.'"
      ]
     },
     "execution_count": 15,
     "metadata": {},
     "output_type": "execute_result"
    }
   ],
   "source": [
    "df.nutritions[0]"
   ]
  },
  {
   "cell_type": "code",
   "execution_count": 16,
   "metadata": {},
   "outputs": [],
   "source": [
    "df.to_csv('../data/interim/processed.csv', index=False)"
   ]
  }
 ],
 "metadata": {
  "interpreter": {
   "hash": "fcf18e1bc866ce26f233a4eaa44b9bd6b35d8f333fdb8d3ae0b7d185f9d9f41f"
  },
  "kernelspec": {
   "display_name": "Python 3.8.8 64-bit ('base': conda)",
   "name": "python3"
  },
  "language_info": {
   "codemirror_mode": {
    "name": "ipython",
    "version": 3
   },
   "file_extension": ".py",
   "mimetype": "text/x-python",
   "name": "python",
   "nbconvert_exporter": "python",
   "pygments_lexer": "ipython3",
   "version": "3.8.8"
  },
  "orig_nbformat": 4
 },
 "nbformat": 4,
 "nbformat_minor": 2
}
